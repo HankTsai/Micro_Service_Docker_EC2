{
 "cells": [
  {
   "cell_type": "code",
   "execution_count": 41,
   "metadata": {},
   "outputs": [],
   "source": [
    "import redis\n",
    "import pymysql\n",
    "import re"
   ]
  },
  {
   "cell_type": "code",
   "execution_count": 23,
   "metadata": {},
   "outputs": [],
   "source": [
    "def connect_to_db(DB_NAME):\n",
    "    host = '192.168.1.52'\n",
    "    port = 3306\n",
    "    user = 'recipe'\n",
    "    passwd = 'recipe'\n",
    "    db = DB_NAME\n",
    "    charset = 'utf8mb4'\n",
    "    conn = pymysql.connect(host=host, port=port, user=user, passwd=passwd, db=db, charset=charset)\n",
    "    print('Successfully connected to DB : {} !'.format(DB_NAME))\n",
    "    return conn"
   ]
  },
  {
   "cell_type": "code",
   "execution_count": 75,
   "metadata": {},
   "outputs": [
    {
     "name": "stdout",
     "output_type": "stream",
     "text": [
      "Successfully connected to DB : recipe !\n"
     ]
    }
   ],
   "source": [
    "db = 'recipe'\n",
    "conn = connect_to_db(db)\n",
    "cursor = conn.cursor()"
   ]
  },
  {
   "cell_type": "code",
   "execution_count": null,
   "metadata": {},
   "outputs": [],
   "source": [
    "sql = \"\"\"\n",
    "SELECT * FROM recipe;\n",
    "\"\"\"\n",
    "cursor.execute(sql)"
   ]
  },
  {
   "cell_type": "code",
   "execution_count": null,
   "metadata": {},
   "outputs": [],
   "source": [
    "data = cursor.fetchall()"
   ]
  },
  {
   "cell_type": "code",
   "execution_count": null,
   "metadata": {},
   "outputs": [],
   "source": [
    "len(data)"
   ]
  },
  {
   "cell_type": "code",
   "execution_count": null,
   "metadata": {},
   "outputs": [],
   "source": [
    "data[:10]"
   ]
  },
  {
   "cell_type": "code",
   "execution_count": null,
   "metadata": {},
   "outputs": [],
   "source": [
    "sql='''SELECT `保存期限` FROM recipe.ingredient where `食材ID` = 50;'''\n",
    "cursor.execute(sql)\n",
    "expire = cursor.fetchall()"
   ]
  },
  {
   "cell_type": "code",
   "execution_count": null,
   "metadata": {},
   "outputs": [],
   "source": [
    "word = expire[0][0]"
   ]
  },
  {
   "cell_type": "code",
   "execution_count": null,
   "metadata": {},
   "outputs": [],
   "source": [
    "pattern = r\"(.*)([\\d]+)\"\n",
    "expire_date = re.search(pattern,word).group()"
   ]
  },
  {
   "cell_type": "code",
   "execution_count": null,
   "metadata": {},
   "outputs": [],
   "source": [
    "int(expire_date)"
   ]
  },
  {
   "cell_type": "code",
   "execution_count": null,
   "metadata": {},
   "outputs": [],
   "source": [
    "userid = 'user1'\n",
    "ingredient_id = \"50\"\n",
    "ing_weight= \"250\"\n",
    "unit = \"gram\"\n",
    "storage_date = '2020-10-31'\n",
    "expire_date"
   ]
  },
  {
   "cell_type": "code",
   "execution_count": null,
   "metadata": {},
   "outputs": [],
   "source": [
    "# 新增食材寫入買西摳\n",
    "sql='''\n",
    "INSERT INTO `recipe`.`refrigerator_record` \n",
    "(`使用者ID`, `食材ID`, `食材重量`, `食材單位`, `食材存放日`,`食材到期日`) \n",
    "VALUES (\"{}\",\"{}\",\"{}\",\"{}\",\"{}\", \"{}\" + interval \"{}\" day ) ;\n",
    "\n",
    "'''.format(userid,ingredient_id,ing_weight,unit,storage_date,storage_date,expire_date)\n"
   ]
  },
  {
   "cell_type": "code",
   "execution_count": null,
   "metadata": {},
   "outputs": [],
   "source": [
    "cursor.execute(sql)\n",
    "conn.commit()"
   ]
  },
  {
   "cell_type": "code",
   "execution_count": null,
   "metadata": {},
   "outputs": [],
   "source": [
    "sql_insert = \"\"\"\n",
    "INSERT INTO recipe\n",
    "VALUES (%s,%s,%s);\n",
    "\"\"\"\n",
    "print('新增資料筆數:', cursor.executemany(sql_insert, recipe_list))"
   ]
  },
  {
   "cell_type": "code",
   "execution_count": 19,
   "metadata": {},
   "outputs": [],
   "source": [
    "# 查詢食材名稱對應的id及保存期限\n",
    "a = \"飯\"\n",
    "ing_sql = '''\n",
    "select * from recipe.ingredient where `食材名稱` = '{}';\n",
    "'''.format(a)\n",
    "cursor.execute(ing_sql)\n",
    "ing_info = cursor.fetchall()\n",
    "ing_id, ing_name, expire_date = ing_info[0]\n",
    "pattern = r\"([\\D]*)([\\d]+)\"\n",
    "ex_day = re.match(pattern,expire_date).group(2)"
   ]
  },
  {
   "cell_type": "code",
   "execution_count": 20,
   "metadata": {},
   "outputs": [
    {
     "name": "stdout",
     "output_type": "stream",
     "text": [
      "((1, '飯', '3天'),)\n",
      "1\n",
      "飯\n",
      "3天\n",
      "3\n"
     ]
    }
   ],
   "source": [
    "print(ing_info)\n",
    "print(ing_id)\n",
    "print(ing_name)\n",
    "print(expire_date)\n",
    "print(ex_day)"
   ]
  },
  {
   "cell_type": "code",
   "execution_count": 55,
   "metadata": {},
   "outputs": [],
   "source": [
    "sql = '''\n",
    "SELECT `使用者ID`, `Line_ID` from recipe.user_profile where `Line_ID` = 'U429ec102b46a5332b32c4f1a8b3b04db';'''\n",
    "cursor.execute(sql)\n",
    "user_info = cursor.fetchall()"
   ]
  },
  {
   "cell_type": "code",
   "execution_count": 62,
   "metadata": {},
   "outputs": [
    {
     "data": {
      "text/plain": [
       "(('Ryan', 'U429ec102b46a5332b32c4f1a8b3b04db'),)"
      ]
     },
     "execution_count": 62,
     "metadata": {},
     "output_type": "execute_result"
    }
   ],
   "source": [
    "user_info"
   ]
  },
  {
   "cell_type": "code",
   "execution_count": 45,
   "metadata": {},
   "outputs": [],
   "source": [
    "sql='''\n",
    "select 密碼 from user_profile;'''\n",
    "cursor.execute(sql)\n",
    "result = cursor.fetchall()"
   ]
  },
  {
   "cell_type": "code",
   "execution_count": 46,
   "metadata": {},
   "outputs": [
    {
     "data": {
      "text/plain": [
       "(('',), ('',), ('',), ('',), ('',), ('',), ('',), ('',), ('',), ('',))"
      ]
     },
     "execution_count": 46,
     "metadata": {},
     "output_type": "execute_result"
    }
   ],
   "source": [
    "result"
   ]
  },
  {
   "cell_type": "code",
   "execution_count": 39,
   "metadata": {},
   "outputs": [
    {
     "data": {
      "text/plain": [
       "{'甜味': 1,\n",
       " '鹹味': 2,\n",
       " '苦味': 3,\n",
       " '辣味': 4,\n",
       " '酸味': 5,\n",
       " '日式': 6,\n",
       " '台式': 7,\n",
       " '中式': 8,\n",
       " '韓式': 9,\n",
       " '東南亞式': 10,\n",
       " '美式': 11,\n",
       " '歐式': 12,\n",
       " '英式': 13,\n",
       " '價格便宜': 14,\n",
       " '簡單快速出好菜': 15,\n",
       " '依據其他人的推薦,評價': 16,\n",
       " '根據自我的口味喜好': 17}"
      ]
     },
     "execution_count": 39,
     "metadata": {},
     "output_type": "execute_result"
    }
   ],
   "source": [
    "{x[1]:x[0] for x in result}"
   ]
  },
  {
   "cell_type": "code",
   "execution_count": 71,
   "metadata": {},
   "outputs": [],
   "source": [
    "# 取得現存食材資訊\n",
    "sql = '''\n",
    "SELECT re.使用者ID, ing.食材名稱, re.食材重量, re.食材單位, re.食材存放日, re.食材到期日 \n",
    "FROM refrigerator_record re JOIN ingredient ing \n",
    "ON re.食材ID = ing.食材ID \n",
    "WHERE (re.使用者ID = '{}' AND re.食材取用日 is null);\n",
    "'''.format(\"user2\")\n",
    "cursor.execute(sql)\n",
    "result = cursor.fetchall()"
   ]
  },
  {
   "cell_type": "code",
   "execution_count": 72,
   "metadata": {},
   "outputs": [
    {
     "data": {
      "text/plain": [
       "(('user2',\n",
       "  '肉燥',\n",
       "  250,\n",
       "  'gram',\n",
       "  datetime.date(2020, 10, 5),\n",
       "  datetime.date(2020, 10, 15)),)"
      ]
     },
     "execution_count": 72,
     "metadata": {},
     "output_type": "execute_result"
    }
   ],
   "source": [
    "result"
   ]
  },
  {
   "cell_type": "code",
   "execution_count": 93,
   "metadata": {},
   "outputs": [],
   "source": [
    "# 抓特定使用者冰箱資料\n",
    "sql = '''\n",
    "SELECT us.Line_ID, re.食材ID, ing.食材名稱, re.食材重量, re.食材單位, re.食材存放日, re.食材到期日 \n",
    "FROM refrigerator_record re JOIN ingredient ing JOIN user_profile us\n",
    "ON re.食材ID = ing.食材ID AND re.使用者ID = us.使用者ID\n",
    "WHERE (re.使用者ID = '{}' AND re.食材取用日 is null);\n",
    "'''.format(\"user8\")\n",
    "cursor.execute(sql)\n",
    "result2 = cursor.fetchall()"
   ]
  },
  {
   "cell_type": "code",
   "execution_count": 94,
   "metadata": {},
   "outputs": [
    {
     "data": {
      "text/plain": [
       "()"
      ]
     },
     "execution_count": 94,
     "metadata": {},
     "output_type": "execute_result"
    }
   ],
   "source": [
    "result2"
   ]
  },
  {
   "cell_type": "code",
   "execution_count": 92,
   "metadata": {},
   "outputs": [
    {
     "data": {
      "text/plain": [
       "'250,gram,2020-10-05'"
      ]
     },
     "execution_count": 92,
     "metadata": {},
     "output_type": "execute_result"
    }
   ],
   "source": [
    "str(result2[0][3]) + \",\" + result2[0][4] + \",\" + str(result2[0][5])"
   ]
  },
  {
   "cell_type": "code",
   "execution_count": 83,
   "metadata": {},
   "outputs": [],
   "source": [
    "# 抓全部冰箱資料\n",
    "sql = '''\n",
    "SELECT re.使用者ID, us.Line_ID, re.食材ID, ing.食材名稱, re.食材重量, re.食材單位, re.食材存放日, re.食材到期日 \n",
    "FROM refrigerator_record re JOIN ingredient ing JOIN user_profile us\n",
    "ON re.食材ID = ing.食材ID AND re.使用者ID = us.使用者ID\n",
    "WHERE (re.食材取用日 is null);\n",
    "'''\n",
    "cursor.execute(sql)\n",
    "result3 = cursor.fetchall()"
   ]
  },
  {
   "cell_type": "code",
   "execution_count": 84,
   "metadata": {},
   "outputs": [
    {
     "data": {
      "text/plain": [
       "(('user2',\n",
       "  '777',\n",
       "  50,\n",
       "  '肉燥',\n",
       "  250,\n",
       "  'gram',\n",
       "  datetime.date(2020, 10, 5),\n",
       "  datetime.date(2020, 10, 15)),\n",
       " ('user1',\n",
       "  '111',\n",
       "  50,\n",
       "  '肉燥',\n",
       "  250,\n",
       "  'gram',\n",
       "  datetime.date(2020, 10, 5),\n",
       "  datetime.date(2020, 10, 15)))"
      ]
     },
     "execution_count": 84,
     "metadata": {},
     "output_type": "execute_result"
    }
   ],
   "source": [
    "result3"
   ]
  },
  {
   "cell_type": "code",
   "execution_count": 95,
   "metadata": {},
   "outputs": [],
   "source": [
    "cursor.close()\n",
    "conn.close()"
   ]
  },
  {
   "cell_type": "code",
   "execution_count": null,
   "metadata": {},
   "outputs": [],
   "source": []
  }
 ],
 "metadata": {
  "kernelspec": {
   "display_name": "Python 3",
   "language": "python",
   "name": "python3"
  },
  "language_info": {
   "codemirror_mode": {
    "name": "ipython",
    "version": 3
   },
   "file_extension": ".py",
   "mimetype": "text/x-python",
   "name": "python",
   "nbconvert_exporter": "python",
   "pygments_lexer": "ipython3",
   "version": "3.7.6"
  }
 },
 "nbformat": 4,
 "nbformat_minor": 4
}
