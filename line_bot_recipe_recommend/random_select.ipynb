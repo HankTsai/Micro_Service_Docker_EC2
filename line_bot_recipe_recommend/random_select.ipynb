{
 "cells": [
  {
   "cell_type": "code",
   "execution_count": 56,
   "metadata": {},
   "outputs": [
    {
     "name": "stdout",
     "output_type": "stream",
     "text": [
      "Successfully connected to MySQL : recipe !\n"
     ]
    }
   ],
   "source": [
    "from user_db_api import DataBaseConnector\n",
    "import json\n",
    "from random import sample\n",
    "from datetime import date\n",
    "import random\n",
    "import re\n",
    "ip_info = json.load(open(\"./ip_info.json\", 'r', encoding='utf8'))\n",
    "db = DataBaseConnector(ip_info.get(\"Redis\"))"
   ]
  },
  {
   "cell_type": "code",
   "execution_count": 3,
   "metadata": {},
   "outputs": [],
   "source": [
    "# 鎖定 大蒜、香菜、枸杞\n",
    "garlic = db.redis.zrange(\"大蒜\",0,-1)\n",
    "parsley = db.redis.zrange(\"香菜\",0,-1)\n",
    "wolfberry = db.redis.zrange(\"枸杞\",0,-1)"
   ]
  },
  {
   "cell_type": "code",
   "execution_count": 4,
   "metadata": {},
   "outputs": [
    {
     "data": {
      "text/plain": [
       "43824"
      ]
     },
     "execution_count": 4,
     "metadata": {},
     "output_type": "execute_result"
    }
   ],
   "source": [
    "len(garlic)"
   ]
  },
  {
   "cell_type": "code",
   "execution_count": 5,
   "metadata": {},
   "outputs": [
    {
     "data": {
      "text/plain": [
       "6842"
      ]
     },
     "execution_count": 5,
     "metadata": {},
     "output_type": "execute_result"
    }
   ],
   "source": [
    "len(parsley)"
   ]
  },
  {
   "cell_type": "code",
   "execution_count": 6,
   "metadata": {},
   "outputs": [
    {
     "data": {
      "text/plain": [
       "3201"
      ]
     },
     "execution_count": 6,
     "metadata": {},
     "output_type": "execute_result"
    }
   ],
   "source": [
    "len(wolfberry)"
   ]
  },
  {
   "cell_type": "code",
   "execution_count": 15,
   "metadata": {},
   "outputs": [],
   "source": [
    "def random_get(ingredient):\n",
    "    recipe_list = db.redis.zrange(ingredient,0,-1)\n",
    "    random_sample = sample(recipe_list,10)\n",
    "    content = {}\n",
    "    for each in random_sample:\n",
    "        ingredient_list = db.redis.hget(each,\"ingredient\").split(\",\")\n",
    "        ingredient_set = set(i.split(\" \")[0] for i in ingredient_list)\n",
    "        content[each] = ingredient_set\n",
    "    \n",
    "    return content"
   ]
  },
  {
   "cell_type": "code",
   "execution_count": 107,
   "metadata": {},
   "outputs": [
    {
     "data": {
      "text/plain": [
       "{'30723': {'大蒜', '奇異果', '白菜', '紅茶', '雞蛋', '麵粉'},\n",
       " '89497': {'八角', '大蒜', '牛肉', '蔥', '薑', '辣椒', '酒類'},\n",
       " '98055': {'大蒜', '沙拉', '洋蔥', '海苔', '玉米', '番茄', '菇類', '萵苣', '雞蛋', '魚', '黃瓜'},\n",
       " '106051': {'大蒜', '菇類', '蝦', '豆腐', '金針菇'},\n",
       " '29820': {'九層塔', '大蒜', '薑', '辣椒', '雞腿'},\n",
       " '32436': {'大蒜', '檸檬', '洋蔥', '番茄', '筍', '義大利麵', '蝦', '蟹', '透抽', '香菜', '鴻禧菇'},\n",
       " '17637': {'大蒜', '菇類', '辣椒', '香菜', '麵包'},\n",
       " '739': {'九層塔', '大蒜', '太白粉', '豬肉', '酒類', '雞蛋'},\n",
       " '46696': {'大蒜', '干貝', '洋蔥', '薑', '雞腿'},\n",
       " '77919': {'大蒜', '洋蔥', '魚'}}"
      ]
     },
     "execution_count": 107,
     "metadata": {},
     "output_type": "execute_result"
    }
   ],
   "source": [
    "garlic_recipe = random_get(\"大蒜\")\n",
    "garlic_recipe"
   ]
  },
  {
   "cell_type": "code",
   "execution_count": 59,
   "metadata": {},
   "outputs": [],
   "source": [
    "def get_expire(ingredient_id):\n",
    "    ing_sql = '''\n",
    "    select * from recipe.ingredient where `食材ID` = '{}';\n",
    "    '''.format(ingredient_id)\n",
    "    db.cursor.execute(ing_sql)\n",
    "    ing_info = db.cursor.fetchall()\n",
    "    ing_id, ing_name, expire_date = ing_info[0]\n",
    "    pattern = r\"([\\D]*)([\\d]+)\"\n",
    "    ex_day_number = re.match(pattern, expire_date).group(2)  # int\n",
    "    return ex_day_number"
   ]
  },
  {
   "cell_type": "code",
   "execution_count": 125,
   "metadata": {},
   "outputs": [],
   "source": [
    "def insert_mysql_lack(userid,ingredient):\n",
    "    recipe_list = random_get(ingredient)\n",
    "    \n",
    "    db.mysql = db.connect_to_mysql('recipe')\n",
    "    db.cursor = db.mysql.cursor()\n",
    "    db_id = db.get_db_userid(userid)\n",
    "    for recipe_id in recipe_list.keys():\n",
    "        today = \"2020-10-{}\".format(random.randint(1,31))\n",
    "        recipe_list[recipe_id].discard(ingredient)\n",
    "        ing_num = len(recipe_list[recipe_id])\n",
    "        if ing_num <= 1:\n",
    "            continue\n",
    "        else:\n",
    "            pass\n",
    "        \n",
    "        intersection = sample(recipe_list[recipe_id],random.randint(1,int(ing_num/2)))\n",
    "        food_id = db.redis.hmget('general_ingredient', *intersection)\n",
    "        \n",
    "        \n",
    "        # 每一食材id: mysql 更新\n",
    "        for each_ing_id in food_id:\n",
    "            ex_day_number = get_expire(each_ing_id)\n",
    "          \n",
    "            # 新增食材資訊寫入mysql\n",
    "            sql = \"\"\"\n",
    "            INSERT INTO refrigerator_record (使用者ID, 食材ID, 食材重量, 食材單位, 食材存放日, 食材到期日,食材取用日)\n",
    "            VALUES ('{}', '{}', '{}', '{}', '{}', '{}' + interval '{}' day,\"{}\");\n",
    "            \"\"\".format(db_id, each_ing_id, str(random.randint(10,1000)), \"g\", today, today, ex_day_number,today)\n",
    "            db.cursor.execute(sql)\n",
    "            db.mysql.commit()\n",
    "\n",
    "            \n",
    "        # 食譜紀錄增加\n",
    "        sql_my_recipe_record = \"\"\"                   \n",
    "        INSERT INTO my_recipe_record (使用者ID, 食譜ID, 食譜使用日期) \n",
    "        VALUES ('{}', '{}', '{}');\n",
    "        \"\"\".format(db_id, recipe_id, today)\n",
    "        db.cursor.execute(sql_my_recipe_record)\n",
    "        db.mysql.commit()\n",
    "        \n",
    "        \n",
    "        lack = recipe_list[recipe_id] - set(intersection)\n",
    "        if lack:\n",
    "            lack.add(ingredient)\n",
    "            lack_food_id = db.redis.hmget('general_ingredient', *lack)\n",
    "            for each_lack in lack_food_id:\n",
    "                sql_lack = \"\"\"\n",
    "                INSERT INTO ingredient_lack_record (使用者ID, 食材ID, 食譜ID, 食譜使用日期) \n",
    "                VALUES ('{}', '{}', '{}', '{}');\n",
    "                \"\"\".format(db_id, each_lack, recipe_id, today)\n",
    "                db.cursor.execute(sql_lack)\n",
    "                db.mysql.commit()\n",
    "    \n",
    "    db.close_connect_to_mysql()"
   ]
  },
  {
   "cell_type": "code",
   "execution_count": 126,
   "metadata": {},
   "outputs": [],
   "source": [
    "def insert_mysql(userid,ingredient):\n",
    "    recipe_list = random_get(ingredient)\n",
    "    \n",
    "    db.mysql = db.connect_to_mysql('recipe')\n",
    "    db.cursor = db.mysql.cursor()\n",
    "    db_id = db.get_db_userid(userid)\n",
    "    for recipe_id in recipe_list.keys():\n",
    "        today = \"2020-10-{}\".format(random.randint(1,31))\n",
    "        recipe_list[recipe_id].discard(ingredient)\n",
    "        ing_num = len(recipe_list[recipe_id])\n",
    "        if ing_num <= 1:\n",
    "            continue\n",
    "        else:\n",
    "            pass\n",
    "        \n",
    "        intersection = sample(recipe_list[recipe_id],random.randint(1,int(ing_num/2)))\n",
    "        intersection.append(ingredient)\n",
    "        food_id = db.redis.hmget('general_ingredient', *intersection)\n",
    "        \n",
    "        \n",
    "        # 每一食材id: mysql 更新\n",
    "        for each_ing_id in food_id:\n",
    "            ex_day_number = get_expire(each_ing_id)\n",
    "          \n",
    "            # 新增食材資訊寫入mysql\n",
    "            sql = \"\"\"\n",
    "            INSERT INTO refrigerator_record (使用者ID, 食材ID, 食材重量, 食材單位, 食材存放日, 食材到期日,食材取用日)\n",
    "            VALUES ('{}', '{}', '{}', '{}', '{}', '{}' + interval '{}' day,\"{}\");\n",
    "            \"\"\".format(db_id, each_ing_id, str(random.randint(10,1000)), \"g\", today, today, ex_day_number,today)\n",
    "            db.cursor.execute(sql)\n",
    "            db.mysql.commit()\n",
    "\n",
    "            \n",
    "        # 食譜紀錄增加\n",
    "        sql_my_recipe_record = \"\"\"                   \n",
    "        INSERT INTO my_recipe_record (使用者ID, 食譜ID, 食譜使用日期) \n",
    "        VALUES ('{}', '{}', '{}');\n",
    "        \"\"\".format(db_id, recipe_id, today)\n",
    "        db.cursor.execute(sql_my_recipe_record)\n",
    "        db.mysql.commit()\n",
    "        \n",
    "        \n",
    "        lack = recipe_list[recipe_id] - set(intersection)\n",
    "        if lack:\n",
    "            lack_food_id = db.redis.hmget('general_ingredient', *lack)\n",
    "            for each_lack in lack_food_id:\n",
    "                sql_lack = \"\"\"\n",
    "                INSERT INTO ingredient_lack_record (使用者ID, 食材ID, 食譜ID, 食譜使用日期) \n",
    "                VALUES ('{}', '{}', '{}', '{}');\n",
    "                \"\"\".format(db_id, each_lack, recipe_id, today)\n",
    "                db.cursor.execute(sql_lack)\n",
    "                db.mysql.commit()\n",
    "    \n",
    "    db.close_connect_to_mysql()"
   ]
  },
  {
   "cell_type": "code",
   "execution_count": 123,
   "metadata": {},
   "outputs": [
    {
     "name": "stdout",
     "output_type": "stream",
     "text": [
      "Successfully connected to MySQL : recipe !\n"
     ]
    }
   ],
   "source": [
    "# 這部分製造某樣食材的缺少紀錄\n",
    "userid = 'U429ec102b46a5332b32c4f1a8b3b04db'\n",
    "insert_mysql_lack(userid,\"枸杞\")"
   ]
  },
  {
   "cell_type": "code",
   "execution_count": 130,
   "metadata": {},
   "outputs": [
    {
     "name": "stdout",
     "output_type": "stream",
     "text": [
      "Successfully connected to MySQL : recipe !\n"
     ]
    }
   ],
   "source": [
    "# 這部分是用作想要新增某樣食材紀錄\n",
    "userid = 'U0fb00ea039a1ab786346eaf24d622597'\n",
    "userid2 = 'U429ec102b46a5332b32c4f1a8b3b04db'\n",
    "insert_mysql(userid2,\"牛肉\")"
   ]
  },
  {
   "cell_type": "code",
   "execution_count": null,
   "metadata": {},
   "outputs": [],
   "source": []
  },
  {
   "cell_type": "code",
   "execution_count": null,
   "metadata": {},
   "outputs": [],
   "source": []
  },
  {
   "cell_type": "code",
   "execution_count": 127,
   "metadata": {},
   "outputs": [
    {
     "data": {
      "text/plain": [
       "{'U0822cf0978d4161a9088d5b8d435b69f': 'Bugwang',\n",
       " 'U0fb00ea039a1ab786346eaf24d622597': 'yencindy',\n",
       " 'U429ec102b46a5332b32c4f1a8b3b04db': 'Ryan',\n",
       " 'U51051d8f36a42aca6a507da9f7312abf': 'ting1710',\n",
       " 'U5fa613ee27250c701399c54a85da589d': 'Kkjlc',\n",
       " 'U7a7950da1a24c106cea9b417e32f9542': 'Janice123',\n",
       " 'U93dda39a1e7d10c95b34e04ba59a0844': ' abc123',\n",
       " 'Ufb7f528c36dd7cb903b05345cd4450f0': '1234567'}"
      ]
     },
     "execution_count": 127,
     "metadata": {},
     "output_type": "execute_result"
    }
   ],
   "source": [
    "db.redis.hgetall(\"total_user_id\")"
   ]
  },
  {
   "cell_type": "code",
   "execution_count": null,
   "metadata": {},
   "outputs": [],
   "source": []
  }
 ],
 "metadata": {
  "kernelspec": {
   "display_name": "Python 3",
   "language": "python",
   "name": "python3"
  },
  "language_info": {
   "codemirror_mode": {
    "name": "ipython",
    "version": 3
   },
   "file_extension": ".py",
   "mimetype": "text/x-python",
   "name": "python",
   "nbconvert_exporter": "python",
   "pygments_lexer": "ipython3",
   "version": "3.7.6"
  }
 },
 "nbformat": 4,
 "nbformat_minor": 4
}
