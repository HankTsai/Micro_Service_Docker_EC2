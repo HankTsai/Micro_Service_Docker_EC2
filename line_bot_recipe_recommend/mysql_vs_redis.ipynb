{
 "cells": [
  {
   "cell_type": "code",
   "execution_count": 1,
   "metadata": {},
   "outputs": [],
   "source": [
    "import pymysql\n",
    "import redis\n",
    "import time\n",
    "import re\n",
    "import datetime"
   ]
  },
  {
   "cell_type": "code",
   "execution_count": 22,
   "metadata": {},
   "outputs": [],
   "source": [
    "r = redis.StrictRedis(host='192.168.1.176', port=6379,decode_responses=True)"
   ]
  },
  {
   "cell_type": "code",
   "execution_count": 11,
   "metadata": {},
   "outputs": [],
   "source": [
    "def connect_to_db(DB_NAME):\n",
    "    # 設定資料庫連線資訊\n",
    "    host = '192.168.1.52'\n",
    "    port = 3306\n",
    "    user = 'recipe'\n",
    "    passwd = 'recipe'\n",
    "    db = DB_NAME\n",
    "    charset = 'utf8mb4'\n",
    "\n",
    "    # 建立連線\n",
    "    conn = pymysql.connect(host=host, port=port, user=user, passwd=passwd, db=db, charset=charset)\n",
    "    print('Successfully connected to DB : {} !'.format(DB_NAME))\n",
    "    return conn"
   ]
  },
  {
   "cell_type": "code",
   "execution_count": 18,
   "metadata": {},
   "outputs": [
    {
     "name": "stdout",
     "output_type": "stream",
     "text": [
      "Successfully connected to DB : recipe !\n"
     ]
    }
   ],
   "source": [
    "db = 'recipe'\n",
    "conn = connect_to_db(db)  # 連接資料庫\n",
    "cursor = conn.cursor()"
   ]
  },
  {
   "cell_type": "code",
   "execution_count": 17,
   "metadata": {},
   "outputs": [
    {
     "data": {
      "text/plain": [
       "<pymysql.cursors.Cursor at 0x274fab4c908>"
      ]
     },
     "execution_count": 17,
     "metadata": {},
     "output_type": "execute_result"
    }
   ],
   "source": [
    "cursor"
   ]
  },
  {
   "cell_type": "code",
   "execution_count": 15,
   "metadata": {},
   "outputs": [],
   "source": [
    "    cursor.close()  \n",
    "    conn.close()"
   ]
  },
  {
   "cell_type": "code",
   "execution_count": 23,
   "metadata": {},
   "outputs": [],
   "source": [
    "# scenario 1. ingredient storage record (when kafka consumer get data)\n",
    "\n",
    "def ingredient_storage(kafka_data,line_id):\n",
    "\n",
    "    db = 'recipe'\n",
    "    conn = connect_to_db(db)  # 連接資料庫\n",
    "    cursor = conn.cursor()\n",
    "\n",
    "\n",
    "    uid = r.hget('total_user_id',line_id)  #從line_id中找user_id\n",
    "\n",
    "\n",
    "    food_data = kafka_data.split()   #['壽司飯', '200', 'g']\n",
    "\n",
    "    if not r.hexists(\"general_ingredient\", food_data[0]):  #如果未在general食材的話,換成general食材\n",
    "        food_data[0] = r.hget('synonym',food_data[0])\n",
    "        if food_data[0]:\n",
    "            pass\n",
    "        else:\n",
    "            return \"查無相關食材名稱，請重新輸入\"\n",
    "    food_id = r.hget('general_ingredient',food_data[0])    #查出食材ID\n",
    "\n",
    "\n",
    "    t = time.localtime()     #食材存進的時間\n",
    "    dt = time.strftime('%Y-%m-%d', t)\n",
    "\n",
    "\n",
    "    #到期日\n",
    "    sql_get_storage_time = \"\"\"\n",
    "    SELECT 保存期限 FROM ingredient WHERE 食材ID = %s; \n",
    "    \"\"\"\n",
    "    cursor.execute(sql_get_storage_time % food_id )\n",
    "    storage_time = cursor.fetchall()\n",
    "    regex = re.compile(r'\\d+')\n",
    "    match = regex.search(storage_time[0][0])\n",
    "    expire_t = (datetime.datetime.now()+datetime.timedelta(days=int(match.group()))).strftime(\"%Y-%m-%d\")\n",
    "\n",
    "\n",
    "\n",
    "    sql = \"\"\"\n",
    "    INSERT INTO refrigerator_record (使用者ID, 食材ID, 食材重量, 食材單位, 食材存放日, 食材到期日)\n",
    "    VALUES ('{}', '{}', '{}', '{}', '{}', '{}');\n",
    "    \"\"\".format(uid,food_id,food_data[1],food_data[2],dt,expire_t)\n",
    "\n",
    "    cursor.execute(sql)  \n",
    "    conn.commit()\n",
    "\n",
    "    cursor.close()  \n",
    "    conn.close()\n",
    "    \n",
    "    \n",
    "    r.hset(line_id,food_data[0],(food_data[1] + ',' + food_data[2] + ',' + dt)) #寫進redis\n",
    "    \n",
    "    return(print(\"已寫入\",food_data,\"進\",uid,\"冰箱\"))"
   ]
  },
  {
   "cell_type": "code",
   "execution_count": 24,
   "metadata": {},
   "outputs": [
    {
     "name": "stdout",
     "output_type": "stream",
     "text": [
      "Successfully connected to DB : recipe !\n",
      "已寫入 ['雞蛋', '200', 'g'] 進 user1 冰箱\n"
     ]
    }
   ],
   "source": [
    "# scenario 1. ingredient storage record (when kafka consumer get data)\n",
    "\n",
    "kafka_data = '雞蛋 200 g'  #input冰箱的食材\n",
    "line_id = 'U429ec102b46a5332b32c4f1a8b3b04db'\n",
    "ingredient_storage(kafka_data,line_id)"
   ]
  },
  {
   "cell_type": "code",
   "execution_count": null,
   "metadata": {},
   "outputs": [],
   "source": []
  },
  {
   "cell_type": "code",
   "execution_count": null,
   "metadata": {},
   "outputs": [],
   "source": [
    "# scenario 2. user profile + line_id (when questioner completed)\n",
    "db = 'recipe'\n",
    "conn = connect_to_db(db)  \n",
    "cursor = conn.cursor()\n",
    "\n",
    "try:\n",
    "\n",
    "    sql_to_profile = \"\"\"\n",
    "        INSERT INTO refrigerator_record (使用者ID,Line_ID,姓名,email,性別,電話,生日)  \n",
    "        VALUES ('{}', '{}', '{}', '{}', '{}', '{}');\n",
    "        \"\"\".format(問卷格式待抓)\n",
    "\n",
    "    sql_to_my_own_preference = \"\"\"\n",
    "        INSERT INTO my_own_prefernece (使用者ID,偏好ID)\n",
    "        VALUES ('{}', '{}', '{}', '{}', '{}', '{}');\n",
    "        \"\"\".format(問卷格式待抓)\n",
    "\n",
    "    cursor.execute(sql_to_profile)  \n",
    "    conn.commit()\n",
    "    cursor.execute(sql_to_my_own_preference)  \n",
    "    conn.commit()\n",
    "\n",
    "    cursor.close()  \n",
    "    conn.close()\n",
    "\n",
    "    r.hset('total_user_id',line_id,uid)  #新成員加入hash →  'total_user_id': {line_ID:userID} 供未來直接用lineID可查userID\n",
    "    \n",
    "except: \n",
    "    print('帳號重複')"
   ]
  },
  {
   "cell_type": "code",
   "execution_count": null,
   "metadata": {},
   "outputs": [],
   "source": []
  },
  {
   "cell_type": "code",
   "execution_count": 191,
   "metadata": {},
   "outputs": [
    {
     "name": "stdout",
     "output_type": "stream",
     "text": [
      "Successfully connected to DB : recipe !\n",
      "須扣除的食材 ['地瓜', '麵粉']\n",
      "已將 ['地瓜', '麵粉'] 從 user7 冰箱扣除\n"
     ]
    }
   ],
   "source": [
    " # scenario 3. user like recipe record (when user has ordered a recipe)\n",
    "\n",
    "line_id = '00'\n",
    "recipe_id = 900\n",
    "deduct_ingredient_from_icebox(line_id,recipe_id)"
   ]
  },
  {
   "cell_type": "code",
   "execution_count": 190,
   "metadata": {},
   "outputs": [],
   "source": [
    " # scenario 3. user like recipe record (when user has ordered a recipe)\n",
    "def deduct_ingredient_from_icebox (line_id,recipe_id):\n",
    "    db = 'recipe'\n",
    "    conn = connect_to_db(db) \n",
    "    cursor = conn.cursor()\n",
    "    \n",
    "    uid = r.hget('total_user_id',line_id)  #從line_id中找user_id\n",
    "    \n",
    "    t = time.localtime()     #食材取用的時間\n",
    "    dt = time.strftime('%Y-%m-%d', t)\n",
    "    \n",
    "    r_ing = r.hget(recipe_id,'ingredient')  #找出指定食譜的食材  →'紅蘿蔔 260 gram, 豬肉 110 gram'\n",
    "    r_ing = r_ing. split(',')\n",
    "    recipe_ing_set = set()\n",
    "    for each in r_ing:\n",
    "        b = each.split(' ')\n",
    "        recipe_ing_set.add(b[0])\n",
    "        \n",
    "    icebox_ing = set(r.hkeys(line_id))   #找出user冰箱的的食材\n",
    "    ing_intersection = list(recipe_ing_set & icebox_ing)   # 找出食譜裡有的冰箱食材 (須扣除的食材→ ['紅蘿蔔', '豬肉'])\n",
    "    food_id = r.hmget('general_ingredient',ing_intersection)   #查出扣除食材id →[30,49]  \n",
    "    print(\"須扣除的食材\",ing_intersection)\n",
    "        \n",
    "    \n",
    "    for each_ing_id in range(len(food_id)):     #每一食材id: mysql 更新, redis 刪除 \n",
    "        sql = \"\"\"\n",
    "        UPDATE refrigerator_record SET 食材取用日 = \"{}\" WHERE 使用者ID = \"{}\" AND 食材ID = \"{}\";\n",
    "        \"\"\".format(dt,uid,food_id[each_ing_id])\n",
    "\n",
    "        cursor.execute(sql)  \n",
    "        conn.commit()\n",
    "    \n",
    "        r.hdel(line_id,ing_intersection[each_ing_id])\n",
    "    \n",
    "    \n",
    "    #食譜紀錄增加\n",
    "    sql_my_recipe_record = \"\"\"                   \n",
    "    INSERT INTO my_recipe_record (使用者ID, 食譜ID, 食譜使用日期) \n",
    "    VALUES ('{}', '{}', '{}');\n",
    "    \"\"\".format(uid,recipe_id,dt)\n",
    "        \n",
    "    cursor.execute(sql_my_recipe_record)  \n",
    "    conn.commit()\n",
    "        \n",
    "    cursor.close()  \n",
    "    conn.close()\n",
    "    return(print(\"已將\",ing_intersection,\"從\",uid,\"冰箱扣除\"))"
   ]
  },
  {
   "cell_type": "code",
   "execution_count": null,
   "metadata": {},
   "outputs": [],
   "source": []
  },
  {
   "cell_type": "code",
   "execution_count": 187,
   "metadata": {},
   "outputs": [
    {
     "data": {
      "text/plain": [
       "{'地瓜', '太白粉', '玉米粉', '蝦', '麵粉'}"
      ]
     },
     "execution_count": 187,
     "metadata": {},
     "output_type": "execute_result"
    }
   ],
   "source": [
    "r_ing = r.hget('900','ingredient')\n",
    "r_ing = r_ing. split(',')\n",
    "recipe_ing_set = set()\n",
    "for each in r_ing:\n",
    "    b = each.split(' ')\n",
    "    recipe_ing_set.add(b[0])\n",
    "recipe_ing_set"
   ]
  },
  {
   "cell_type": "code",
   "execution_count": 188,
   "metadata": {},
   "outputs": [
    {
     "data": {
      "text/plain": [
       "{'九層塔', '地瓜', '山蘇', '檸檬', '牛奶', '牛肉', '脆瓜', '芋頭', '蔥', '蘋果', '雞蛋', '麵粉'}"
      ]
     },
     "execution_count": 188,
     "metadata": {},
     "output_type": "execute_result"
    }
   ],
   "source": [
    "icebox_ing = set(r.hkeys('00'))\n",
    "icebox_ing"
   ]
  },
  {
   "cell_type": "code",
   "execution_count": 189,
   "metadata": {},
   "outputs": [
    {
     "data": {
      "text/plain": [
       "['地瓜', '麵粉']"
      ]
     },
     "execution_count": 189,
     "metadata": {},
     "output_type": "execute_result"
    }
   ],
   "source": [
    "ing_intersection = list(recipe_ing_set & icebox_ing)\n",
    "ing_intersection"
   ]
  },
  {
   "cell_type": "code",
   "execution_count": 130,
   "metadata": {},
   "outputs": [
    {
     "data": {
      "text/plain": [
       "'30'"
      ]
     },
     "execution_count": 130,
     "metadata": {},
     "output_type": "execute_result"
    }
   ],
   "source": [
    "food_id = r.hmget('general_ingredient',ing_intersection) \n",
    "food_id \n",
    "food_id[0]"
   ]
  },
  {
   "cell_type": "code",
   "execution_count": 154,
   "metadata": {},
   "outputs": [],
   "source": [
    "line_id = '00'\n",
    "recipe_id = 15000"
   ]
  },
  {
   "cell_type": "code",
   "execution_count": 157,
   "metadata": {},
   "outputs": [
    {
     "name": "stdout",
     "output_type": "stream",
     "text": [
      "Successfully connected to DB : recipe !\n"
     ]
    }
   ],
   "source": [
    "db = 'recipe'\n",
    "conn = connect_to_db(db) \n",
    "cursor = conn.cursor()\n",
    "\n",
    "t = time.localtime()     #食材存進的時間\n",
    "dt = time.strftime('%Y-%m-%d', t)\n",
    "\n",
    "sql_my_recipe_record = \"\"\"\n",
    "INSERT INTO my_recipe_record (使用者ID, 食譜ID, 食譜使用日期)\n",
    "VALUES ('{}', '{}', '{}');\n",
    "\"\"\".format(uid,recipe_id,dt)\n",
    "\n",
    "cursor.execute(sql_my_recipe_record)  \n",
    "conn.commit()\n",
    "\n",
    "cursor.close()  \n",
    "conn.close()"
   ]
  },
  {
   "cell_type": "code",
   "execution_count": null,
   "metadata": {},
   "outputs": [],
   "source": []
  }
 ],
 "metadata": {
  "kernelspec": {
   "display_name": "Python 3",
   "language": "python",
   "name": "python3"
  },
  "language_info": {
   "codemirror_mode": {
    "name": "ipython",
    "version": 3
   },
   "file_extension": ".py",
   "mimetype": "text/x-python",
   "name": "python",
   "nbconvert_exporter": "python",
   "pygments_lexer": "ipython3",
   "version": "3.7.6"
  }
 },
 "nbformat": 4,
 "nbformat_minor": 4
}
